{
 "cells": [
  {
   "cell_type": "markdown",
   "id": "146e84da-a829-4e6d-9a42-982ef7faeb2d",
   "metadata": {},
   "source": [
    "# Best website to learn about CNN ( Convolutional Neural Network )\n",
    "\n",
    "https://poloclub.github.io/cnn-explainer/"
   ]
  },
  {
   "cell_type": "code",
   "execution_count": 2,
   "id": "73744cb9-d1f1-4c23-8dab-4af0ba6c13c2",
   "metadata": {},
   "outputs": [],
   "source": [
    "# Creating first CNN\n",
    "import torch\n",
    "from torch import nn\n",
    "\n",
    "import torchvision\n",
    "from torchvision import datasets\n",
    "from torchvision import transforms\n",
    "from torchvision.transforms import ToTensor\n",
    "\n",
    "import matplotlib.pyplot as plt"
   ]
  },
  {
   "cell_type": "markdown",
   "id": "9cd82912-023a-4d60-a7c2-852c16aadf2d",
   "metadata": {},
   "source": [
    "# Getting dataset"
   ]
  },
  {
   "cell_type": "code",
   "execution_count": 29,
   "id": "5ce46a1c-1b35-4a50-8994-f23c1a76376e",
   "metadata": {},
   "outputs": [],
   "source": [
    "train_data = datasets.FashionMNIST(\n",
    "    root=\"data\",  # where to download data\n",
    "    train=True,   # do you want the training data\n",
    "    download=True, # do you want to download\n",
    "    transform=ToTensor(), # transforming the image data to tensros\n",
    "    target_transform=None # how do we want to transform the labels/target\n",
    ")\n",
    "\n",
    "test_data = datasets.FashionMNIST(\n",
    "    root=\"data\",\n",
    "    train=False,\n",
    "    download=True,\n",
    "    transform=ToTensor(),\n",
    "    target_transform=None\n",
    ")"
   ]
  },
  {
   "cell_type": "code",
   "execution_count": 30,
   "id": "eee8fa26-8e65-41d1-ae58-bd1d0e370826",
   "metadata": {},
   "outputs": [
    {
     "data": {
      "text/plain": [
       "['T-shirt/top',\n",
       " 'Trouser',\n",
       " 'Pullover',\n",
       " 'Dress',\n",
       " 'Coat',\n",
       " 'Sandal',\n",
       " 'Shirt',\n",
       " 'Sneaker',\n",
       " 'Bag',\n",
       " 'Ankle boot']"
      ]
     },
     "execution_count": 30,
     "metadata": {},
     "output_type": "execute_result"
    }
   ],
   "source": [
    "class_names = train_data.classes\n",
    "class_names"
   ]
  },
  {
   "cell_type": "code",
   "execution_count": 31,
   "id": "f5040cc6-6e14-4114-b3af-edb6a40e27a1",
   "metadata": {},
   "outputs": [
    {
     "data": {
      "text/plain": [
       "{'T-shirt/top': 0,\n",
       " 'Trouser': 1,\n",
       " 'Pullover': 2,\n",
       " 'Dress': 3,\n",
       " 'Coat': 4,\n",
       " 'Sandal': 5,\n",
       " 'Shirt': 6,\n",
       " 'Sneaker': 7,\n",
       " 'Bag': 8,\n",
       " 'Ankle boot': 9}"
      ]
     },
     "execution_count": 31,
     "metadata": {},
     "output_type": "execute_result"
    }
   ],
   "source": [
    "class_to_idx = train_data.class_to_idx\n",
    "class_to_idx"
   ]
  },
  {
   "cell_type": "code",
   "execution_count": 32,
   "id": "7b46f12d-82a2-4d07-b2bd-223aadf1c6d8",
   "metadata": {},
   "outputs": [
    {
     "data": {
      "text/plain": [
       "tensor([9, 0, 0,  ..., 3, 0, 5])"
      ]
     },
     "execution_count": 32,
     "metadata": {},
     "output_type": "execute_result"
    }
   ],
   "source": [
    "targets = train_data.targets\n",
    "targets"
   ]
  },
  {
   "cell_type": "code",
   "execution_count": 33,
   "id": "f2e90ae3-d3ac-4d74-9319-88e71156a3a4",
   "metadata": {},
   "outputs": [
    {
     "data": {
      "text/plain": [
       "(Dataset FashionMNIST\n",
       "     Number of datapoints: 60000\n",
       "     Root location: data\n",
       "     Split: Train\n",
       "     StandardTransform\n",
       " Transform: ToTensor(),\n",
       " Dataset FashionMNIST\n",
       "     Number of datapoints: 10000\n",
       "     Root location: data\n",
       "     Split: Test\n",
       "     StandardTransform\n",
       " Transform: ToTensor())"
      ]
     },
     "execution_count": 33,
     "metadata": {},
     "output_type": "execute_result"
    }
   ],
   "source": [
    "train_data, test_data"
   ]
  },
  {
   "cell_type": "markdown",
   "id": "2a07c737-1df0-4a6f-bc9c-cd28c9812f71",
   "metadata": {},
   "source": [
    "# Prepare dataloader\n",
    "\n",
    "Currently, our data is in the form of Pytorch datasets.\n",
    "\n",
    "`DataLoader` turns data into Python iterables.\n",
    "\n",
    "More specifically, we want to turn our data into mini batches.\n",
    "\n",
    "**Why mini batches?**\n",
    "\n",
    "1. More efficient computationally ( breakdown to 32 images at a time )\n",
    "2. It gives our neural network more chances to update its gradient per epoch"
   ]
  },
  {
   "cell_type": "code",
   "execution_count": 34,
   "id": "9b31ce4f-e979-42b7-b503-38ca7760262b",
   "metadata": {},
   "outputs": [
    {
     "data": {
      "text/plain": [
       "(<torch.utils.data.dataloader.DataLoader at 0x7f9f0387e4c0>,\n",
       " <torch.utils.data.dataloader.DataLoader at 0x7f9f0387efa0>)"
      ]
     },
     "execution_count": 34,
     "metadata": {},
     "output_type": "execute_result"
    }
   ],
   "source": [
    "from torch.utils.data import DataLoader\n",
    "\n",
    "# hyperparameter of batch size\n",
    "BATCH_SIZE = 32\n",
    "\n",
    "# turn data sets into batches\n",
    "train_dataloader = DataLoader(dataset=train_data,\n",
    "                             batch_size=BATCH_SIZE,\n",
    "                             shuffle=True)\n",
    "\n",
    "test_dataloader = DataLoader(dataset=test_data,\n",
    "                            batch_size=BATCH_SIZE,\n",
    "                            shuffle=False)\n",
    "\n",
    "train_dataloader, test_dataloader"
   ]
  },
  {
   "cell_type": "markdown",
   "id": "2accb915-75da-47fd-aff4-66fb53b3d76c",
   "metadata": {},
   "source": [
    "# Building CNN model"
   ]
  },
  {
   "cell_type": "code",
   "execution_count": 35,
   "id": "454da136-4285-4a24-b6d4-e1d20fd55588",
   "metadata": {},
   "outputs": [],
   "source": [
    "class CnnModel(nn.Module):\n",
    "    def __init__(self, input_shape: int,\n",
    "                hidden_units: int,\n",
    "                output_shape: int):\n",
    "        super().__init__()\n",
    "        self.conv_block_1 = nn.Sequential(\n",
    "            nn.Conv2d(in_channels=input_shape, \n",
    "                      out_channels=hidden_units,\n",
    "                     kernel_size=3,\n",
    "                     stride=1,\n",
    "                     padding=1),\n",
    "            nn.ReLU(),\n",
    "            nn.Conv2d(in_channels=hidden_units,\n",
    "                     out_channels=hidden_units,\n",
    "                     kernel_size=3,\n",
    "                     stride=1,\n",
    "                     padding=1),\n",
    "            nn.ReLU(),\n",
    "            nn.MaxPool2d(kernel_size=2)\n",
    "        )\n",
    "\n",
    "        self.conv_block_2 = nn.Sequential(\n",
    "            nn.Conv2d(in_channels=hidden_units,\n",
    "                     out_channels=hidden_units,\n",
    "                     kernel_size=3,\n",
    "                     stride=1,\n",
    "                     padding=1),\n",
    "            nn.ReLU(),\n",
    "            nn.Conv2d(in_channels=hidden_units,\n",
    "                     out_channels=hidden_units,\n",
    "                     kernel_size=3,\n",
    "                     stride=1,\n",
    "                     padding=1),\n",
    "            nn.ReLU(),\n",
    "            nn.MaxPool2d(kernel_size=2)\n",
    "        )\n",
    "        self.classifier = nn.Sequential(\n",
    "            nn.Flatten(),\n",
    "            nn.Linear(in_features=hidden_units*7*7,\n",
    "                     out_features=output_shape)\n",
    "        )\n",
    "\n",
    "    def forward(self, x):\n",
    "        x = self.conv_block_1(x)\n",
    "        #print(x.shape)\n",
    "        x = self.conv_block_2(x)\n",
    "        #print(x.shape)\n",
    "        x = self.classifier(x)\n",
    "        return x"
   ]
  },
  {
   "cell_type": "code",
   "execution_count": 36,
   "id": "c7cecdbf-c7f0-4f13-b112-7340e382b7fb",
   "metadata": {},
   "outputs": [],
   "source": [
    "torch.manual_seed(42)\n",
    "model = CnnModel(input_shape=1, \n",
    "                hidden_units=10,\n",
    "                output_shape=len(class_names))"
   ]
  },
  {
   "cell_type": "markdown",
   "id": "a7850bbf-5d73-4eba-ab36-fbdc078becd9",
   "metadata": {},
   "source": [
    "# Stepping through `conv2d`"
   ]
  },
  {
   "cell_type": "code",
   "execution_count": 24,
   "id": "7bb28636-e461-48c4-a5ed-f18dfce9af14",
   "metadata": {},
   "outputs": [
    {
     "data": {
      "text/plain": [
       "torch.Size([3, 64, 64])"
      ]
     },
     "execution_count": 24,
     "metadata": {},
     "output_type": "execute_result"
    }
   ],
   "source": [
    "images = torch.randn(size=(32, 3, 64, 64))\n",
    "test_image = images[0]\n",
    "\n",
    "test_image.shape"
   ]
  },
  {
   "cell_type": "markdown",
   "id": "faccb677-d183-4be3-aab7-9536f0bfada9",
   "metadata": {},
   "source": [
    "### Create a single conv2d layer"
   ]
  },
  {
   "cell_type": "code",
   "execution_count": 19,
   "id": "2c3427e5-f9e8-48ad-91d2-8b455ac75140",
   "metadata": {},
   "outputs": [
    {
     "data": {
      "text/plain": [
       "torch.Size([10, 64, 64])"
      ]
     },
     "execution_count": 19,
     "metadata": {},
     "output_type": "execute_result"
    }
   ],
   "source": [
    "torch.manual_seed(42)\n",
    "conv_layer = nn.Conv2d(in_channels=3,\n",
    "                       out_channels = 10,\n",
    "                       kernel_size=1,\n",
    "                       stride=1,\n",
    "                       padding=0)\n",
    "\n",
    "# passing the data\n",
    "conv_output = conv_layer(test_image)\n",
    "conv_output.shape"
   ]
  },
  {
   "cell_type": "markdown",
   "id": "a88c50d8-8066-4282-91ad-ad723512a2d6",
   "metadata": {},
   "source": [
    "# Stepping through `Maxpool2d`"
   ]
  },
  {
   "cell_type": "code",
   "execution_count": 27,
   "id": "ad48b996-189f-4c31-b124-1200f1a00158",
   "metadata": {},
   "outputs": [
    {
     "data": {
      "text/plain": [
       "torch.Size([3, 64, 64])"
      ]
     },
     "execution_count": 27,
     "metadata": {},
     "output_type": "execute_result"
    }
   ],
   "source": [
    "# original image shape\n",
    "test_image.shape"
   ]
  },
  {
   "cell_type": "code",
   "execution_count": 26,
   "id": "63fe6501-8141-4755-afc4-e59060c231d7",
   "metadata": {},
   "outputs": [
    {
     "name": "stdout",
     "output_type": "stream",
     "text": [
      "torch.Size([10, 64, 64])\n",
      "torch.Size([10, 32, 32])\n"
     ]
    }
   ],
   "source": [
    "max_pool_layer = nn.MaxPool2d(kernel_size=2)\n",
    "\n",
    "# pass data through conv layer\n",
    "test_image_through_conv = conv_layer(test_image)\n",
    "print(test_image_through_conv.shape)\n",
    "\n",
    "# pass data through max pool layer\n",
    "test_image_through_conv_and_maxpool = max_pool_layer(test_image_through_conv)\n",
    "print(test_image_through_conv_and_maxpool.shape)"
   ]
  },
  {
   "cell_type": "markdown",
   "id": "bc1f39e2-e860-436a-8e70-d7dffbdf723e",
   "metadata": {},
   "source": [
    "> ## Why the data is squeezed after going though maxpool layer\n",
    "\n",
    ">Here, the `kernel size = 2`, which means that it will take 2x2 matrix and take the max value of all the 4 values and replace 2x2 matrix with single value ( max value ).\n",
    "That's why it decreased the output tensor shape from [10, 64, 64] to [10, 32, 32].\n",
    "`Greater the kernel size in max pool layer, greater the squeeze or compression in output layer`.\n",
    ">>Why the greater value only. **Because it means we are only taking the most important value or most important feature of the image**"
   ]
  },
  {
   "cell_type": "markdown",
   "id": "a38a4584-82b0-4ce7-af0e-718cf3ff6a1d",
   "metadata": {},
   "source": [
    "# `Practicing on cnn model using dummy data`"
   ]
  },
  {
   "cell_type": "code",
   "execution_count": 11,
   "id": "a47059e5-e349-4ae7-834c-4d1702b09683",
   "metadata": {},
   "outputs": [
    {
     "data": {
      "text/plain": [
       "torch.Size([1, 28, 28])"
      ]
     },
     "execution_count": 11,
     "metadata": {},
     "output_type": "execute_result"
    }
   ],
   "source": [
    "rand_image_tensor = torch.randn(size=[1, 28 ,28])\n",
    "rand_image_tensor.shape"
   ]
  },
  {
   "cell_type": "code",
   "execution_count": 13,
   "id": "9d5b0763-f350-4007-8042-e994ad5b3fdb",
   "metadata": {},
   "outputs": [
    {
     "name": "stdout",
     "output_type": "stream",
     "text": [
      "torch.Size([1, 10, 14, 14])\n",
      "torch.Size([1, 10, 7, 7])\n"
     ]
    },
    {
     "data": {
      "text/plain": [
       "tensor([[ 0.0366, -0.0940,  0.0686, -0.0485,  0.0068,  0.0290,  0.0132,  0.0084,\n",
       "         -0.0030, -0.0185]], grad_fn=<AddmmBackward0>)"
      ]
     },
     "execution_count": 13,
     "metadata": {},
     "output_type": "execute_result"
    }
   ],
   "source": [
    "model(rand_image_tensor.unsqueeze(0))"
   ]
  },
  {
   "cell_type": "markdown",
   "id": "bc370345-09ec-4993-899d-a95617d761a1",
   "metadata": {},
   "source": [
    "# Training the CNN on originial dataset"
   ]
  },
  {
   "cell_type": "markdown",
   "id": "6194dc74-3344-4112-8cb2-20391df155b0",
   "metadata": {},
   "source": [
    "### Setup loss function and optimizer"
   ]
  },
  {
   "cell_type": "code",
   "execution_count": 37,
   "id": "a8a3143a-c3d2-423f-ad65-eb589c9b90b3",
   "metadata": {},
   "outputs": [],
   "source": [
    "from helper_functions import accuracy_fn\n",
    "\n",
    "loss_fn = nn.CrossEntropyLoss()\n",
    "optimizer = torch.optim.SGD(params=model.parameters(),\n",
    "                           lr=0.1)"
   ]
  },
  {
   "cell_type": "markdown",
   "id": "02538823-7392-4ee6-9d5f-3b7d71af30ed",
   "metadata": {},
   "source": [
    "# `Training and Testing loop`"
   ]
  },
  {
   "cell_type": "code",
   "execution_count": 38,
   "id": "4b6d79fa-0099-4865-a257-1111a38bb9fb",
   "metadata": {},
   "outputs": [],
   "source": [
    "def print_train_time(start: float,\n",
    "                    end: float,\n",
    "                    device: torch.device=None):\n",
    "    total_time = end - start\n",
    "    return total_time"
   ]
  },
  {
   "cell_type": "code",
   "execution_count": 39,
   "id": "8c2ddead-7e3f-41cb-b0e1-263212085ef9",
   "metadata": {},
   "outputs": [],
   "source": [
    "def train_step(model: torch.nn.Module,\n",
    "              data_loader: torch.utils.data.DataLoader,\n",
    "              loss_fn: torch.nn.Module,\n",
    "              optimizer: torch.optim.Optimizer,\n",
    "              accuracy_fn,\n",
    "              device: torch.device = \"cpu\"):\n",
    "\n",
    "    \"\"\"\n",
    "    Performs traning with model\n",
    "    \"\"\"\n",
    "    \n",
    "    train_loss, train_acc = 0, 0\n",
    "\n",
    "    # Put model into training mode\n",
    "    \n",
    "    #add a loop to loop through the training batches\n",
    "    for batch, (X, y) in enumerate(data_loader):\n",
    "\n",
    "        # Put data on target device\n",
    "        X, y = X.to(device), y.to(device)\n",
    "\n",
    "        # forward pass\n",
    "        y_pred = model(X)\n",
    "\n",
    "        #calculate the loss for every batch and accumulate it.\n",
    "        loss = loss_fn(y_pred, y)\n",
    "        train_loss += loss\n",
    "\n",
    "        # calculate accuracy per batch\n",
    "        train_acc = accuracy_fn(y_true=y,\n",
    "                               y_pred=y_pred.argmax(dim=1))\n",
    "\n",
    "        # optimizer zero grad\n",
    "        optimizer.zero_grad()\n",
    "\n",
    "        #backprop\n",
    "        loss.backward()\n",
    "\n",
    "        # optimizer step\n",
    "        optimizer.step()\n",
    "\n",
    "    # Divide total train loss and acc by length of train dataloader\n",
    "    # average loss and accuracy per epoch\n",
    "    train_loss /= len(data_loader)\n",
    "    train_acc /= len(data_loader)\n",
    "    print(f\"Train Loss: {train_loss:.5f} | Train acc: {train_acc:.2f}%\")"
   ]
  },
  {
   "cell_type": "code",
   "execution_count": 40,
   "id": "36d74c0e-2ab2-4a18-81d6-3e22f745b2f7",
   "metadata": {},
   "outputs": [],
   "source": [
    "def test_step(model: torch.nn.Module,\n",
    "              data_loader: torch.utils.data.DataLoader,\n",
    "              loss_fn: torch.nn.Module,\n",
    "              accuracy_fn,\n",
    "              device: torch.device = \"cpu\"):\n",
    "    \"\"\"\n",
    "    Peforms a testing loop step on model going over data_loader\n",
    "    \"\"\"\n",
    "\n",
    "    test_loss, test_acc = 0, 0\n",
    "\n",
    "    # put the model in eval mode\n",
    "    model.eval()\n",
    "\n",
    "    # Turn on inference mode context manager\n",
    "    with torch.inference_mode():\n",
    "        for X, y in data_loader:\n",
    "\n",
    "            # send data to target device\n",
    "            X, y = X.to(device), y.to(device)\n",
    "\n",
    "            # forward pass\n",
    "            test_pred = model(X)\n",
    "\n",
    "            # calculate the loss and acc\n",
    "            test_loss += loss_fn(test_pred, y)\n",
    "            test_acc += accuracy_fn(y_true=y,\n",
    "                                   y_pred=test_pred.argmax(dim=1))\n",
    "\n",
    "        # Adjust matric and print\n",
    "        test_loss /= len(data_loader)\n",
    "        test_acc /= len(data_loader)\n",
    "        print(f\"Test loss: {test_loss:.5f} | Test acc: {test_acc:.2f}%\")"
   ]
  },
  {
   "cell_type": "code",
   "execution_count": 41,
   "id": "fa0aae41-2f13-4ced-ad04-5f43505aae49",
   "metadata": {},
   "outputs": [
    {
     "data": {
      "application/vnd.jupyter.widget-view+json": {
       "model_id": "9e8c3d567dce42fb9985928c039e5a3c",
       "version_major": 2,
       "version_minor": 0
      },
      "text/plain": [
       "  0%|          | 0/3 [00:00<?, ?it/s]"
      ]
     },
     "metadata": {},
     "output_type": "display_data"
    },
    {
     "name": "stdout",
     "output_type": "stream",
     "text": [
      "Epoch: 0\n",
      "-------------------\n",
      "Train Loss: 0.59563 | Train acc: 0.05%\n",
      "Test loss: 0.39714 | Test acc: 85.65%\n",
      "Epoch: 1\n",
      "-------------------\n",
      "Train Loss: 0.36179 | Train acc: 0.04%\n",
      "Test loss: 0.35345 | Test acc: 86.96%\n",
      "Epoch: 2\n",
      "-------------------\n",
      "Train Loss: 0.32441 | Train acc: 0.05%\n",
      "Test loss: 0.32050 | Test acc: 88.40%\n"
     ]
    }
   ],
   "source": [
    "torch.manual_seed(42)\n",
    "\n",
    "from tqdm.auto import tqdm\n",
    "from timeit import default_timer as timer\n",
    "train_time_start_cnn_model = timer()\n",
    "\n",
    "# train and test model\n",
    "epochs = 3\n",
    "\n",
    "for epoch in tqdm(range(epochs)):\n",
    "    print(f\"Epoch: {epoch}\\n-------------------\")\n",
    "    train_step(model=model,\n",
    "              data_loader=train_dataloader,\n",
    "              loss_fn=loss_fn,\n",
    "              optimizer=optimizer,\n",
    "              accuracy_fn=accuracy_fn)\n",
    "    test_step(model=model,\n",
    "             data_loader=test_dataloader,\n",
    "             loss_fn=loss_fn,\n",
    "             accuracy_fn=accuracy_fn)\n",
    "train_time_end_cnn_model = timer()\n",
    "total_train_time_cnn_model = print_train_time(start=train_time_start_cnn_model,\n",
    "                                             end=train_time_end_cnn_model)"
   ]
  },
  {
   "cell_type": "code",
   "execution_count": 42,
   "id": "ac417835-48d5-4ba9-863d-4110d0afb6af",
   "metadata": {},
   "outputs": [],
   "source": [
    "torch.manual_seed(42)\n",
    "\n",
    "def eval_model(model: torch.nn.Module,\n",
    "              data_loader: torch.utils.data.DataLoader,\n",
    "              loss_fn: torch.nn.Module,\n",
    "              accuracy_fn):\n",
    "    \"\"\"\n",
    "    Returns a dict containing the results of model predicting on data_loader\n",
    "    \"\"\"\n",
    "    loss, acc = 0, 0\n",
    "    model.eval()\n",
    "    with torch.inference_mode():\n",
    "        for X, y in data_loader:\n",
    "            # make predictions\n",
    "            y_pred = model(X)\n",
    "\n",
    "            # accumulate the loss\n",
    "            loss += loss_fn(y_pred, y)\n",
    "\n",
    "            # accumulate the accuracy\n",
    "            acc += accuracy_fn(y_true=y,\n",
    "                              y_pred=y_pred.argmax(dim=1))\n",
    "\n",
    "        # Average loss and acc per batch\n",
    "        loss /= len(data_loader)\n",
    "        acc /= len(data_loader)\n",
    "\n",
    "    return {\n",
    "        \"model_name\": model.__class__.__name__, # only works when model created with class\n",
    "        \"model_loss\": loss.item(),\n",
    "        \"model_acc\":acc\n",
    "    }\n"
   ]
  },
  {
   "cell_type": "code",
   "execution_count": 43,
   "id": "6ebe208e-31a5-4f07-abb7-3084612e9f62",
   "metadata": {},
   "outputs": [
    {
     "data": {
      "text/plain": [
       "{'model_name': 'CnnModel',\n",
       " 'model_loss': 0.3204987049102783,\n",
       " 'model_acc': 88.39856230031948}"
      ]
     },
     "execution_count": 43,
     "metadata": {},
     "output_type": "execute_result"
    }
   ],
   "source": [
    "cnn_model_results = eval_model(\n",
    "    model=model,\n",
    "    data_loader=test_dataloader,\n",
    "    loss_fn=loss_fn,\n",
    "    accuracy_fn=accuracy_fn\n",
    ")\n",
    "\n",
    "cnn_model_results"
   ]
  },
  {
   "cell_type": "markdown",
   "id": "418b6a81-887c-4b2d-a999-02fb6061b47b",
   "metadata": {},
   "source": [
    "# Make and evaluate random predictions "
   ]
  },
  {
   "cell_type": "code",
   "execution_count": 54,
   "id": "c2a06fe0-3739-40fb-8dc4-ce0386fcaf1e",
   "metadata": {},
   "outputs": [],
   "source": [
    "def make_predicitons(model: torch.nn.Module,\n",
    "                    data: list,\n",
    "                    device=None):\n",
    "    pred_probs = []\n",
    "    model.eval()\n",
    "    with torch.inference_mode():\n",
    "        for sample in data:\n",
    "            # prepare the sample\n",
    "            sample = torch.unsqueeze(sample, dim=0)\n",
    "    \n",
    "            #forward pass\n",
    "            pred_logits = model(sample)\n",
    "    \n",
    "            #get predictions probs\n",
    "            pred_prob = torch.softmax(pred_logits.squeeze(), dim=0)\n",
    "    \n",
    "            pred_probs.append(pred_prob)\n",
    "\n",
    "    return torch.stack(pred_probs)"
   ]
  },
  {
   "cell_type": "code",
   "execution_count": 68,
   "id": "835893e6-1e75-46ff-b3ff-b417cbee061e",
   "metadata": {},
   "outputs": [],
   "source": [
    "import random\n",
    "#random.seed(42)\n",
    "test_samples= []\n",
    "test_labels = []\n",
    "for sample, label in random.sample(list(test_data), k=9):\n",
    "    test_samples.append(sample)\n",
    "    test_labels.append(label)"
   ]
  },
  {
   "cell_type": "code",
   "execution_count": 69,
   "id": "2ac22117-2d93-4b3a-84ff-6fe05509e931",
   "metadata": {},
   "outputs": [
    {
     "data": {
      "text/plain": [
       "Text(0.5, 1.0, 'Ankle boot')"
      ]
     },
     "execution_count": 69,
     "metadata": {},
     "output_type": "execute_result"
    },
    {
     "data": {
      "image/png": "[encoded data removed]",
      "text/plain": [
       "<Figure size 640x480 with 1 Axes>"
      ]
     },
     "metadata": {},
     "output_type": "display_data"
    }
   ],
   "source": [
    "plt.imshow(test_samples[0].squeeze(), cmap=\"gray\")\n",
    "plt.title(class_names[test_labels[0]])"
   ]
  },
  {
   "cell_type": "markdown",
   "id": "65919816-90fe-43b9-b0db-9ff7619512e4",
   "metadata": {},
   "source": [
    "### Make predictions"
   ]
  },
  {
   "cell_type": "code",
   "execution_count": 70,
   "id": "250f93f3-63ab-4f0e-bc2e-4c7ab1e48011",
   "metadata": {},
   "outputs": [
    {
     "data": {
      "text/plain": [
       "tensor([[1.2235e-04, 6.3275e-05, 1.6919e-05, 6.2684e-05, 3.5387e-06, 3.5214e-02,\n",
       "         1.0671e-05, 2.0041e-02, 3.2760e-03, 9.4119e-01],\n",
       "        [5.2603e-05, 3.4777e-06, 4.3166e-05, 1.2036e-05, 5.2174e-06, 1.2246e-03,\n",
       "         3.0491e-06, 9.6748e-01, 1.7549e-03, 2.9419e-02]])"
      ]
     },
     "execution_count": 70,
     "metadata": {},
     "output_type": "execute_result"
    }
   ],
   "source": [
    "pred_probs = make_predicitons(model=model,\n",
    "                              data=test_samples)\n",
    "pred_probs[:2]"
   ]
  },
  {
   "cell_type": "markdown",
   "id": "fcb219b2-41c0-4b28-b6fe-c89ca6d0361f",
   "metadata": {},
   "source": [
    "# Converting preb probs into labels"
   ]
  },
  {
   "cell_type": "code",
   "execution_count": 71,
   "id": "408c0466-18d2-4d57-b48c-3d5dfca7f2fc",
   "metadata": {},
   "outputs": [
    {
     "data": {
      "text/plain": [
       "tensor([9, 7, 2, 0, 1, 0, 3, 5, 4])"
      ]
     },
     "execution_count": 71,
     "metadata": {},
     "output_type": "execute_result"
    }
   ],
   "source": [
    "pred_classes = pred_probs.argmax(dim=1)\n",
    "pred_classes"
   ]
  },
  {
   "cell_type": "code",
   "execution_count": 72,
   "id": "43b2c299-4995-48ff-9fd8-c7c762389726",
   "metadata": {},
   "outputs": [
    {
     "data": {
      "text/plain": [
       "[9, 7, 2, 0, 1, 0, 4, 5, 4]"
      ]
     },
     "execution_count": 72,
     "metadata": {},
     "output_type": "execute_result"
    }
   ],
   "source": [
    "test_labels"
   ]
  },
  {
   "cell_type": "code",
   "execution_count": 73,
   "id": "cb2903e2-f1b2-4db0-9961-34e83aae9dfa",
   "metadata": {},
   "outputs": [
    {
     "data": {
      "image/png": "[encoded data removed]",
      "text/plain": [
       "<Figure size 900x900 with 9 Axes>"
      ]
     },
     "metadata": {},
     "output_type": "display_data"
    }
   ],
   "source": [
    "# Plot prediciotns\n",
    "plt.figure(figsize=(9, 9))\n",
    "nrows = 3\n",
    "ncols = 3\n",
    "\n",
    "for i, sample in enumerate(test_samples):\n",
    "    plt.subplot(nrows, ncols, i+1)\n",
    "\n",
    "    # plot the target image\n",
    "    plt.imshow(sample.squeeze(), cmap=\"gray\")\n",
    "\n",
    "    # find the prediciton\n",
    "    pred_label = class_names[pred_classes[i]]\n",
    "\n",
    "    # Get the truth label\n",
    "    truth_label = class_names[test_labels[i]]\n",
    "\n",
    "    # create a title for plot\n",
    "    title_text = f\"Pred: {pred_label} | Truth: {truth_label}\"\n",
    "\n",
    "    # check for equality between pred and truth\n",
    "    if pred_label == truth_label:\n",
    "        plt.title(title_text, fontsize=10, c=\"g\")\n",
    "    else:\n",
    "        plt.title(title_text, fontsize=10, c=\"r\")\n",
    "\n",
    "    plt.axis(False)"
   ]
  },
  {
   "cell_type": "markdown",
   "id": "33390b64-c3df-4bea-9d52-52b303718614",
   "metadata": {},
   "source": [
    "# `Confusion Matrix`\n",
    "\n",
    ">### Confusion matrix is a good way for evaluating classification models visually\n",
    "\n",
    "### **Steps**:\n",
    "1. Make predicitons with our model\n",
    "2. Make a confusion matrix `torchmetrics.ConfusionMatrix`.\n",
    "3. Plot the confusion matrix using `mlxtend.plotting.plot_confusion_matrix`."
   ]
  },
  {
   "cell_type": "markdown",
   "id": "2979fe89-756d-4ca3-abd4-d8a12a2cdfe0",
   "metadata": {},
   "source": [
    "# `Make predictions for all the data`"
   ]
  },
  {
   "cell_type": "code",
   "execution_count": 75,
   "id": "644f4c73-3c3c-4c9e-aea4-b42bcf83cd8d",
   "metadata": {},
   "outputs": [
    {
     "data": {
      "application/vnd.jupyter.widget-view+json": {
       "model_id": "4c5191b06498452fa159eecf6f7a8769",
       "version_major": 2,
       "version_minor": 0
      },
      "text/plain": [
       "Making pred.......:   0%|          | 0/313 [00:00<?, ?it/s]"
      ]
     },
     "metadata": {},
     "output_type": "display_data"
    },
    {
     "data": {
      "text/plain": [
       "tensor([9, 2, 1, 1, 6, 1, 4, 6, 5, 7])"
      ]
     },
     "execution_count": 75,
     "metadata": {},
     "output_type": "execute_result"
    }
   ],
   "source": [
    "# Make predicitions\n",
    "\n",
    "y_preds = []\n",
    "model.eval()\n",
    "with torch.inference_mode():\n",
    "    for X, y in tqdm(test_dataloader, desc=\"Making pred.......\"):\n",
    "\n",
    "        #forward pass\n",
    "        y_logit = model(X)\n",
    "\n",
    "        # turn logits into pred probs and then into pred labels\n",
    "        y_pred = torch.softmax(y_logit.squeeze(), dim=0).argmax(dim=1)\n",
    "\n",
    "        y_preds.append(y_pred)\n",
    "\n",
    "#print(y_preds)\n",
    "y_pred_tensor = torch.cat(y_preds)\n",
    "y_pred_tensor[:10]"
   ]
  },
  {
   "cell_type": "code",
   "execution_count": 76,
   "id": "d19f1177-9922-41bf-ad4c-b47b084da088",
   "metadata": {},
   "outputs": [
    {
     "data": {
      "text/plain": [
       "10000"
      ]
     },
     "execution_count": 76,
     "metadata": {},
     "output_type": "execute_result"
    }
   ],
   "source": [
    "len(y_pred_tensor)"
   ]
  },
  {
   "cell_type": "code",
   "execution_count": 80,
   "id": "935b4806-f3bd-40d6-b4fd-0741a0afc6d7",
   "metadata": {},
   "outputs": [],
   "source": [
    "import torchmetrics, mlxtend"
   ]
  },
  {
   "cell_type": "code",
   "execution_count": 84,
   "id": "c5be56b2-07e4-45c7-b877-cedb5a971efd",
   "metadata": {},
   "outputs": [
    {
     "name": "stdout",
     "output_type": "stream",
     "text": [
      "Collecting mlxtend==0.19.0\n",
      "  Downloading mlxtend-0.19.0-py2.py3-none-any.whl (1.3 MB)\n",
      "\u001b[K     |████████████████████████████████| 1.3 MB 2.2 MB/s eta 0:00:01\n",
      "\u001b[?25hRequirement already satisfied: joblib>=0.13.2 in /home/jay_pathak@acds.net.in/.local/lib/python3.8/site-packages (from mlxtend==0.19.0) (1.3.2)\n",
      "Requirement already satisfied: numpy>=1.16.2 in /home/jay_pathak@acds.net.in/.local/lib/python3.8/site-packages (from mlxtend==0.19.0) (1.24.3)\n",
      "Requirement already satisfied: matplotlib>=3.0.0 in /home/jay_pathak@acds.net.in/.local/lib/python3.8/site-packages (from mlxtend==0.19.0) (3.7.3)\n",
      "Requirement already satisfied: scipy>=1.2.1 in /home/jay_pathak@acds.net.in/.local/lib/python3.8/site-packages (from mlxtend==0.19.0) (1.10.1)\n",
      "Requirement already satisfied: scikit-learn>=0.20.3 in /home/jay_pathak@acds.net.in/.local/lib/python3.8/site-packages (from mlxtend==0.19.0) (1.3.0)\n",
      "Requirement already satisfied: setuptools in /usr/lib/python3/dist-packages (from mlxtend==0.19.0) (45.2.0)\n",
      "Requirement already satisfied: pandas>=0.24.2 in /home/jay_pathak@acds.net.in/.local/lib/python3.8/site-packages (from mlxtend==0.19.0) (1.5.3)\n",
      "Requirement already satisfied: fonttools>=4.22.0 in /home/jay_pathak@acds.net.in/.local/lib/python3.8/site-packages (from matplotlib>=3.0.0->mlxtend==0.19.0) (4.43.1)\n",
      "Requirement already satisfied: python-dateutil>=2.7 in /home/jay_pathak@acds.net.in/.local/lib/python3.8/site-packages (from matplotlib>=3.0.0->mlxtend==0.19.0) (2.8.2)\n",
      "Requirement already satisfied: contourpy>=1.0.1 in /home/jay_pathak@acds.net.in/.local/lib/python3.8/site-packages (from matplotlib>=3.0.0->mlxtend==0.19.0) (1.1.1)\n",
      "Requirement already satisfied: packaging>=20.0 in /home/jay_pathak@acds.net.in/.local/lib/python3.8/site-packages (from matplotlib>=3.0.0->mlxtend==0.19.0) (23.2)\n",
      "Requirement already satisfied: pyparsing>=2.3.1 in /home/jay_pathak@acds.net.in/.local/lib/python3.8/site-packages (from matplotlib>=3.0.0->mlxtend==0.19.0) (3.1.1)\n",
      "Requirement already satisfied: pillow>=6.2.0 in /home/jay_pathak@acds.net.in/.local/lib/python3.8/site-packages (from matplotlib>=3.0.0->mlxtend==0.19.0) (10.1.0)\n",
      "Requirement already satisfied: cycler>=0.10 in /home/jay_pathak@acds.net.in/.local/lib/python3.8/site-packages (from matplotlib>=3.0.0->mlxtend==0.19.0) (0.12.1)\n",
      "Requirement already satisfied: importlib-resources>=3.2.0; python_version < \"3.10\" in /home/jay_pathak@acds.net.in/.local/lib/python3.8/site-packages (from matplotlib>=3.0.0->mlxtend==0.19.0) (6.1.0)\n",
      "Requirement already satisfied: kiwisolver>=1.0.1 in /home/jay_pathak@acds.net.in/.local/lib/python3.8/site-packages (from matplotlib>=3.0.0->mlxtend==0.19.0) (1.4.5)\n",
      "Requirement already satisfied: threadpoolctl>=2.0.0 in /home/jay_pathak@acds.net.in/.local/lib/python3.8/site-packages (from scikit-learn>=0.20.3->mlxtend==0.19.0) (3.2.0)\n",
      "Requirement already satisfied: pytz>=2020.1 in /home/jay_pathak@acds.net.in/.local/lib/python3.8/site-packages (from pandas>=0.24.2->mlxtend==0.19.0) (2023.3.post1)\n",
      "Requirement already satisfied: six>=1.5 in /usr/lib/python3/dist-packages (from python-dateutil>=2.7->matplotlib>=3.0.0->mlxtend==0.19.0) (1.14.0)\n",
      "Requirement already satisfied: zipp>=3.1.0; python_version < \"3.10\" in /home/jay_pathak@acds.net.in/.local/lib/python3.8/site-packages (from importlib-resources>=3.2.0; python_version < \"3.10\"->matplotlib>=3.0.0->mlxtend==0.19.0) (3.17.0)\n",
      "Installing collected packages: mlxtend\n",
      "  Attempting uninstall: mlxtend\n",
      "    Found existing installation: mlxtend 0.1.9\n",
      "    Uninstalling mlxtend-0.1.9:\n",
      "      Successfully uninstalled mlxtend-0.1.9\n",
      "Successfully installed mlxtend-0.19.0\n"
     ]
    }
   ],
   "source": [
    "!pip install mlxtend==0.19.0"
   ]
  },
  {
   "cell_type": "code",
   "execution_count": 85,
   "id": "999979c4-b409-4303-b4df-1a33c4f80328",
   "metadata": {},
   "outputs": [
    {
     "data": {
      "text/plain": [
       "'0.1.9'"
      ]
     },
     "execution_count": 85,
     "metadata": {},
     "output_type": "execute_result"
    }
   ],
   "source": [
    "mlxtend.__version__"
   ]
  },
  {
   "cell_type": "code",
   "execution_count": 87,
   "id": "fe0a0458-43fe-4add-a9d9-b177dce21737",
   "metadata": {},
   "outputs": [
    {
     "data": {
      "text/plain": [
       "tensor([9, 2, 1,  ..., 8, 1, 5])"
      ]
     },
     "execution_count": 87,
     "metadata": {},
     "output_type": "execute_result"
    }
   ],
   "source": [
    "test_data.targets"
   ]
  },
  {
   "cell_type": "code",
   "execution_count": 90,
   "id": "baa2406d-8a8b-404f-b2f6-da22269efdf8",
   "metadata": {},
   "outputs": [
    {
     "data": {
      "image/png": "[encoded data removed]",
      "text/plain": [
       "<Figure size 1000x700 with 1 Axes>"
      ]
     },
     "metadata": {},
     "output_type": "display_data"
    }
   ],
   "source": [
    "from torchmetrics import ConfusionMatrix\n",
    "from mlxtend.plotting import plot_confusion_matrix\n",
    "\n",
    "# setup confusion matrix\n",
    "confmat = ConfusionMatrix(task=\"multiclass\", num_classes=len(class_names))\n",
    "confmat_tensor = confmat(preds=y_pred_tensor,\n",
    "                        target=test_data.targets)\n",
    "\n",
    "# plot the confusion matrix\n",
    "fig, ax = plot_confusion_matrix(\n",
    "    conf_mat=confmat_tensor.numpy(),\n",
    "    class_names=class_names,\n",
    "    figsize=(10,7)\n",
    ")"
   ]
  },
  {
   "cell_type": "markdown",
   "id": "856eb659-43d9-4856-8bd2-b3dff56d400b",
   "metadata": {},
   "source": [
    "> # What does the confusion matrix tell about our model\n",
    ">So ideally, the diagonal of the confusion matrix must be dark and all the upper and lower triagnular values must be 0. This, means the model has 0 loss and is predicting every item precisely.\n",
    "> \n",
    ">But above as we can see, we have many values.\n",
    "For example - For true label `Shirt`, the model predicted is as `T-shirt/top` 222 times and 660 times it predicted right.\n",
    "> \n",
    ">So, with the help of using confusion matrix, we can see the performance of the model visually."
   ]
  },
  {
   "cell_type": "markdown",
   "id": "25b6c390-0809-4256-927e-662b67ff5c77",
   "metadata": {},
   "source": [
    "# Save and load the model"
   ]
  },
  {
   "cell_type": "code",
   "execution_count": 91,
   "id": "59a3a6b1-d475-4012-90a9-685387ec95c4",
   "metadata": {},
   "outputs": [
    {
     "name": "stdout",
     "output_type": "stream",
     "text": [
      "saving model to: CNN_model/CNN_computer_vision_model.pth\n"
     ]
    }
   ],
   "source": [
    "from pathlib import Path\n",
    "\n",
    "# create model dir path\n",
    "MODEL_PATH = Path(\"CNN_model\")\n",
    "MODEL_PATH.mkdir(parents=True,\n",
    "                exist_ok=True)\n",
    "\n",
    "# Create model save\n",
    "MODEL_NAME= \"CNN_computer_vision_model.pth\"\n",
    "MODEL_SAVE_PATH = MODEL_PATH / MODEL_NAME\n",
    "\n",
    "#save the model state dict\n",
    "print(f\"saving model to: {MODEL_SAVE_PATH}\")\n",
    "torch.save(obj=model.state_dict(),\n",
    "          f=MODEL_SAVE_PATH)"
   ]
  },
  {
   "cell_type": "markdown",
   "id": "b81b8670-886a-41a0-b988-bdc8a5c05b45",
   "metadata": {},
   "source": [
    "# Load the model and create a new instance"
   ]
  },
  {
   "cell_type": "code",
   "execution_count": 92,
   "id": "656151bc-44ef-415b-879c-95bb9815b30e",
   "metadata": {},
   "outputs": [
    {
     "data": {
      "text/plain": [
       "CnnModel(\n",
       "  (conv_block_1): Sequential(\n",
       "    (0): Conv2d(1, 10, kernel_size=(3, 3), stride=(1, 1), padding=(1, 1))\n",
       "    (1): ReLU()\n",
       "    (2): Conv2d(10, 10, kernel_size=(3, 3), stride=(1, 1), padding=(1, 1))\n",
       "    (3): ReLU()\n",
       "    (4): MaxPool2d(kernel_size=2, stride=2, padding=0, dilation=1, ceil_mode=False)\n",
       "  )\n",
       "  (conv_block_2): Sequential(\n",
       "    (0): Conv2d(10, 10, kernel_size=(3, 3), stride=(1, 1), padding=(1, 1))\n",
       "    (1): ReLU()\n",
       "    (2): Conv2d(10, 10, kernel_size=(3, 3), stride=(1, 1), padding=(1, 1))\n",
       "    (3): ReLU()\n",
       "    (4): MaxPool2d(kernel_size=2, stride=2, padding=0, dilation=1, ceil_mode=False)\n",
       "  )\n",
       "  (classifier): Sequential(\n",
       "    (0): Flatten(start_dim=1, end_dim=-1)\n",
       "    (1): Linear(in_features=490, out_features=10, bias=True)\n",
       "  )\n",
       ")"
      ]
     },
     "execution_count": 92,
     "metadata": {},
     "output_type": "execute_result"
    }
   ],
   "source": [
    "torch.manual_seed(42)\n",
    "\n",
    "loaded_model = CnnModel(input_shape=1,\n",
    "                       hidden_units=10,\n",
    "                       output_shape=len(class_names))\n",
    "\n",
    "#load the model\n",
    "loaded_model.load_state_dict(torch.load(f=MODEL_SAVE_PATH))\n",
    "loaded_model"
   ]
  },
  {
   "cell_type": "code",
   "execution_count": 94,
   "id": "a7e0ab1f-557f-41b1-8120-f5297065bfdc",
   "metadata": {},
   "outputs": [
    {
     "data": {
      "text/plain": [
       "{'model_name': 'CnnModel',\n",
       " 'model_loss': 0.3204987049102783,\n",
       " 'model_acc': 88.39856230031948}"
      ]
     },
     "execution_count": 94,
     "metadata": {},
     "output_type": "execute_result"
    }
   ],
   "source": [
    "cnn_model_results"
   ]
  },
  {
   "cell_type": "markdown",
   "id": "3fa4005a-bd47-4d09-a32b-b954e3f14a60",
   "metadata": {},
   "source": [
    "# Evaluate loaded model"
   ]
  },
  {
   "cell_type": "code",
   "execution_count": 95,
   "id": "17a0d066-8ffb-4ca0-8150-b51998aaf84f",
   "metadata": {},
   "outputs": [
    {
     "data": {
      "text/plain": [
       "{'model_name': 'CnnModel',\n",
       " 'model_loss': 0.3204987049102783,\n",
       " 'model_acc': 88.39856230031948}"
      ]
     },
     "execution_count": 95,
     "metadata": {},
     "output_type": "execute_result"
    }
   ],
   "source": [
    "torch.manual_seed(42)\n",
    "\n",
    "loaded_model_results = eval_model(\n",
    "    model=loaded_model,\n",
    "    data_loader=test_dataloader,\n",
    "    loss_fn=loss_fn,\n",
    "    accuracy_fn=accuracy_fn\n",
    ")\n",
    "\n",
    "loaded_model_results"
   ]
  },
  {
   "cell_type": "markdown",
   "id": "719361f1-e7ee-4ddb-ab1c-00653848aad0",
   "metadata": {},
   "source": [
    "## `check if loaded model is producing same results as original model`"
   ]
  },
  {
   "cell_type": "code",
   "execution_count": 97,
   "id": "f11fb487-421b-40dc-abeb-cda176fe8e53",
   "metadata": {},
   "outputs": [
    {
     "data": {
      "text/plain": [
       "tensor(True)"
      ]
     },
     "execution_count": 97,
     "metadata": {},
     "output_type": "execute_result"
    }
   ],
   "source": [
    "torch.isclose(torch.tensor(cnn_model_results[\"model_loss\"]),\n",
    "             torch.tensor(loaded_model_results[\"model_loss\"]))"
   ]
  },
  {
   "cell_type": "code",
   "execution_count": null,
   "id": "de54965e-e592-4806-b2aa-e81a2a54f116",
   "metadata": {},
   "outputs": [],
   "source": []
  }
 ],
 "metadata": {
  "kernelspec": {
   "display_name": "Python 3 (ipykernel)",
   "language": "python",
   "name": "python3"
  },
  "language_info": {
   "codemirror_mode": {
    "name": "ipython",
    "version": 3
   },
   "file_extension": ".py",
   "mimetype": "text/x-python",
   "name": "python",
   "nbconvert_exporter": "python",
   "pygments_lexer": "ipython3",
   "version": "3.8.10"
  }
 },
 "nbformat": 4,
 "nbformat_minor": 5
}
